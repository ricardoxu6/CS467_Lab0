{
 "cells": [
  {
   "cell_type": "markdown",
   "metadata": {
    "pycharm": {
     "name": "#%% md\n"
    }
   },
   "source": [
    "## CSCI-467 Discussion (Week 1)"
   ]
  },
  {
   "cell_type": "markdown",
   "metadata": {
    "pycharm": {
     "name": "#%% md\n"
    }
   },
   "source": [
    "### Rules"
   ]
  },
  {
   "cell_type": "markdown",
   "metadata": {
    "pycharm": {
     "name": "#%% md\n"
    }
   },
   "source": [
    "1. Please read the instructions and problem prompts **carefully**.\n",
    "2. This lab is to give you some basic APIs of numpy, pandas and scikit-learn. The lab is to be done individually. You may talk to your fellow classmates about general issues (\"Remind me again: Which API should I used for doing group by operation to a data set\") but about the specifies of how to do these exercises.\n",
    "3. Along with a similar vein, you can ask the TA for help, but ask questions about **concepts** but not ask the TA to help you debug your code. The TA is here to help, but not to do the work for you.\n",
    "4. You are welcome to use the class resources and the Internet.\n",
    "5. Playing with variations. Solve one problems, and then copy the code to a new cell and play around with it. Doing this is the single most important thing when learning programming.\n",
    "6. This lab will not be graded but the content is highly related to your future programming assignments. So, treat it wisely.\n",
    "7. All the content having been gone though in the week 1 discussion is just a snapshot of the most basic concepts. **You need to keep study more about Git, GitHub, Pandas, Numpy and Scikit-Learn in order to finish your programming assignments successfully.**\n",
    "8. Have fun!"
   ]
  },
  {
   "cell_type": "markdown",
   "metadata": {
    "pycharm": {
     "name": "#%% md\n"
    }
   },
   "source": [
    "### Setup Development Environment"
   ]
  },
  {
   "cell_type": "markdown",
   "metadata": {
    "pycharm": {
     "name": "#%% md\n"
    }
   },
   "source": [
    "There are many ways to setup the environment. But, I do recommend a simple idea that is using the Anaconda, which is a pre-build python environment with bundles of useful packages.\n",
    "\n",
    "**To download the Anaconda, go to the following website:\n",
    "https://www.anaconda.com/distribution/**. Download the correct version based on your operating system and install it step by step.\n",
    "\n",
    "Then, **configure your PATH environment variable** to make the conda command work. The following command is an easy way to test whether your configuration is correct. If it is, you will see something as like as the sample output.\n",
    "\n",
    "> **command:**\n",
    ">\n",
    "> conda --version\n",
    ">\n",
    "> **sample output:**\n",
    ">\n",
    "> conda 4.6.12\n",
    "\n",
    "**Finally, download this jupyter notebook file,** then change the working directory to where its location in terminal, and type the following command to open the jupter notebook and finish the lab.\n",
    "\n",
    "> **command:** \n",
    "> jupyter notebook"
   ]
  },
  {
   "cell_type": "markdown",
   "metadata": {
    "pycharm": {
     "name": "#%% md\n"
    }
   },
   "source": [
    "### Pandas"
   ]
  },
  {
   "cell_type": "markdown",
   "metadata": {
    "pycharm": {
     "name": "#%% md\n"
    }
   },
   "source": [
    "#### The read_csv() Method"
   ]
  },
  {
   "cell_type": "markdown",
   "metadata": {
    "pycharm": {
     "name": "#%% md\n"
    }
   },
   "source": [
    "First, read the documentation about the *read_csv()* method in Pandas (https://pandas.pydata.org/pandas-docs/stable/reference/api/pandas.read_csv.html). Then, try to read data from file Salaries.csv to a dataframe, make the column playerID in the csv file as the index column and the first row as the header. Also, skip the second row when reading the file."
   ]
  },
  {
   "cell_type": "code",
   "execution_count": 18,
   "metadata": {
    "pycharm": {
     "name": "#%%\n"
    }
   },
   "outputs": [
    {
     "data": {
      "text/plain": "           yearID teamID lgID    salary\nplayerID                               \nbarkele01    1985    ATL   NL    870000\nbedrost01    1985    ATL   NL    550000\nbenedbr01    1985    ATL   NL    545000\ncampri01     1985    ATL   NL    633333\nceronri01    1985    ATL   NL    625000\n...           ...    ...  ...       ...\ntreinbl01    2015    WAS   NL    512800\nugglada01    2015    WAS   NL    507500\nwerthja01    2015    WAS   NL  21000000\nzimmejo02    2015    WAS   NL  16500000\nzimmery01    2015    WAS   NL  14000000\n\n[25575 rows x 4 columns]",
      "text/html": "<div>\n<style scoped>\n    .dataframe tbody tr th:only-of-type {\n        vertical-align: middle;\n    }\n\n    .dataframe tbody tr th {\n        vertical-align: top;\n    }\n\n    .dataframe thead th {\n        text-align: right;\n    }\n</style>\n<table border=\"1\" class=\"dataframe\">\n  <thead>\n    <tr style=\"text-align: right;\">\n      <th></th>\n      <th>yearID</th>\n      <th>teamID</th>\n      <th>lgID</th>\n      <th>salary</th>\n    </tr>\n    <tr>\n      <th>playerID</th>\n      <th></th>\n      <th></th>\n      <th></th>\n      <th></th>\n    </tr>\n  </thead>\n  <tbody>\n    <tr>\n      <th>barkele01</th>\n      <td>1985</td>\n      <td>ATL</td>\n      <td>NL</td>\n      <td>870000</td>\n    </tr>\n    <tr>\n      <th>bedrost01</th>\n      <td>1985</td>\n      <td>ATL</td>\n      <td>NL</td>\n      <td>550000</td>\n    </tr>\n    <tr>\n      <th>benedbr01</th>\n      <td>1985</td>\n      <td>ATL</td>\n      <td>NL</td>\n      <td>545000</td>\n    </tr>\n    <tr>\n      <th>campri01</th>\n      <td>1985</td>\n      <td>ATL</td>\n      <td>NL</td>\n      <td>633333</td>\n    </tr>\n    <tr>\n      <th>ceronri01</th>\n      <td>1985</td>\n      <td>ATL</td>\n      <td>NL</td>\n      <td>625000</td>\n    </tr>\n    <tr>\n      <th>...</th>\n      <td>...</td>\n      <td>...</td>\n      <td>...</td>\n      <td>...</td>\n    </tr>\n    <tr>\n      <th>treinbl01</th>\n      <td>2015</td>\n      <td>WAS</td>\n      <td>NL</td>\n      <td>512800</td>\n    </tr>\n    <tr>\n      <th>ugglada01</th>\n      <td>2015</td>\n      <td>WAS</td>\n      <td>NL</td>\n      <td>507500</td>\n    </tr>\n    <tr>\n      <th>werthja01</th>\n      <td>2015</td>\n      <td>WAS</td>\n      <td>NL</td>\n      <td>21000000</td>\n    </tr>\n    <tr>\n      <th>zimmejo02</th>\n      <td>2015</td>\n      <td>WAS</td>\n      <td>NL</td>\n      <td>16500000</td>\n    </tr>\n    <tr>\n      <th>zimmery01</th>\n      <td>2015</td>\n      <td>WAS</td>\n      <td>NL</td>\n      <td>14000000</td>\n    </tr>\n  </tbody>\n</table>\n<p>25575 rows × 4 columns</p>\n</div>"
     },
     "execution_count": 18,
     "metadata": {},
     "output_type": "execute_result"
    }
   ],
   "source": [
    "import pandas as pd\n",
    "salary_data = pd.read_csv(\"Salaries.csv\", sep=\",\", index_col=3, header=0, skiprows=[1])\n",
    "salary_data"
   ]
  },
  {
   "cell_type": "markdown",
   "metadata": {
    "pycharm": {
     "name": "#%% md\n"
    }
   },
   "source": [
    "#### Indexing and Selecting Data"
   ]
  },
  {
   "cell_type": "markdown",
   "metadata": {
    "pycharm": {
     "name": "#%% md\n"
    }
   },
   "source": [
    "Select the id of the players who are registered in ATL and HOU and whose salary is higher than one million."
   ]
  },
  {
   "cell_type": "code",
   "execution_count": 21,
   "metadata": {
    "pycharm": {
     "name": "#%%\n"
    }
   },
   "outputs": [
    {
     "data": {
      "text/plain": "           yearID teamID lgID   salary\nplayerID                              \nhornebo01    1985    ATL   NL  1500000\nmurphda05    1985    ATL   NL  1625000\nsuttebr01    1985    ATL   NL  1354167\nryanno01     1985    HOU   NL  1350000\nhornebo01    1986    ATL   NL  1800000\n...           ...    ...  ...      ...\nquallch01    2015    HOU   AL  3000000\nrasmuco01    2015    HOU   AL  8000000\nsingljo02    2015    HOU   AL  2000000\nsippto01     2015    HOU   AL  2400000\nvalbulu01    2015    HOU   AL  4200000\n\n[595 rows x 4 columns]",
      "text/html": "<div>\n<style scoped>\n    .dataframe tbody tr th:only-of-type {\n        vertical-align: middle;\n    }\n\n    .dataframe tbody tr th {\n        vertical-align: top;\n    }\n\n    .dataframe thead th {\n        text-align: right;\n    }\n</style>\n<table border=\"1\" class=\"dataframe\">\n  <thead>\n    <tr style=\"text-align: right;\">\n      <th></th>\n      <th>yearID</th>\n      <th>teamID</th>\n      <th>lgID</th>\n      <th>salary</th>\n    </tr>\n    <tr>\n      <th>playerID</th>\n      <th></th>\n      <th></th>\n      <th></th>\n      <th></th>\n    </tr>\n  </thead>\n  <tbody>\n    <tr>\n      <th>hornebo01</th>\n      <td>1985</td>\n      <td>ATL</td>\n      <td>NL</td>\n      <td>1500000</td>\n    </tr>\n    <tr>\n      <th>murphda05</th>\n      <td>1985</td>\n      <td>ATL</td>\n      <td>NL</td>\n      <td>1625000</td>\n    </tr>\n    <tr>\n      <th>suttebr01</th>\n      <td>1985</td>\n      <td>ATL</td>\n      <td>NL</td>\n      <td>1354167</td>\n    </tr>\n    <tr>\n      <th>ryanno01</th>\n      <td>1985</td>\n      <td>HOU</td>\n      <td>NL</td>\n      <td>1350000</td>\n    </tr>\n    <tr>\n      <th>hornebo01</th>\n      <td>1986</td>\n      <td>ATL</td>\n      <td>NL</td>\n      <td>1800000</td>\n    </tr>\n    <tr>\n      <th>...</th>\n      <td>...</td>\n      <td>...</td>\n      <td>...</td>\n      <td>...</td>\n    </tr>\n    <tr>\n      <th>quallch01</th>\n      <td>2015</td>\n      <td>HOU</td>\n      <td>AL</td>\n      <td>3000000</td>\n    </tr>\n    <tr>\n      <th>rasmuco01</th>\n      <td>2015</td>\n      <td>HOU</td>\n      <td>AL</td>\n      <td>8000000</td>\n    </tr>\n    <tr>\n      <th>singljo02</th>\n      <td>2015</td>\n      <td>HOU</td>\n      <td>AL</td>\n      <td>2000000</td>\n    </tr>\n    <tr>\n      <th>sippto01</th>\n      <td>2015</td>\n      <td>HOU</td>\n      <td>AL</td>\n      <td>2400000</td>\n    </tr>\n    <tr>\n      <th>valbulu01</th>\n      <td>2015</td>\n      <td>HOU</td>\n      <td>AL</td>\n      <td>4200000</td>\n    </tr>\n  </tbody>\n</table>\n<p>595 rows × 4 columns</p>\n</div>"
     },
     "execution_count": 21,
     "metadata": {},
     "output_type": "execute_result"
    }
   ],
   "source": [
    "players = salary_data.loc[(salary_data['salary'] > 1000000) & (salary_data['teamID'].isin([\"ATL\",\"HOU\"])) ]\n",
    "players\n",
    "# players = players.loc[players['teamID'].isin([\"ATL\",\"HOU\"])]\n",
    "# players.head(10);\n",
    "# print(players.index);\n"
   ]
  },
  {
   "cell_type": "markdown",
   "metadata": {
    "pycharm": {
     "name": "#%% md\n"
    }
   },
   "source": [
    "#### The describe() Method"
   ]
  },
  {
   "cell_type": "markdown",
   "metadata": {
    "pycharm": {
     "name": "#%% md\n"
    }
   },
   "source": [
    "Calculate the standard Deviation, first quartile, medium, third quartile, mean, maximum, minimum of the salary in team ATL."
   ]
  },
  {
   "cell_type": "code",
   "execution_count": 25,
   "metadata": {
    "pycharm": {
     "name": "#%%\n"
    }
   },
   "outputs": [
    {
     "name": "stdout",
     "output_type": "stream",
     "text": [
      "count    8.860000e+02\n",
      "mean     2.206239e+06\n",
      "std      3.432673e+06\n",
      "min      6.000000e+04\n",
      "25%      3.000000e+05\n",
      "50%      6.000000e+05\n",
      "75%      2.390625e+06\n",
      "max      1.606180e+07\n",
      "Name: salary, dtype: float64\n"
     ]
    }
   ],
   "source": [
    "salaryATL = salary_data.loc[salary_data['teamID'] == 'ATL']\n",
    "print(salaryATL['salary'].describe())\n"
   ]
  },
  {
   "cell_type": "markdown",
   "metadata": {
    "pycharm": {
     "name": "#%% md\n"
    }
   },
   "source": [
    "#### The iterrows() Method"
   ]
  },
  {
   "cell_type": "markdown",
   "metadata": {
    "pycharm": {
     "name": "#%% md\n"
    }
   },
   "source": [
    "Create a Python dictionary object whose keys are the headers of the dataframe created in the read_csv() exercise and values are Python list objects that contain data corresponding to the headers. (Here, use the iterrows method to iterate each row of the dataframe and copy it to a dictionary. However, there is a easier way. Learn how the to_dict() method works by yourself later)"
   ]
  },
  {
   "cell_type": "code",
   "execution_count": 30,
   "metadata": {
    "pycharm": {
     "name": "#%%\n"
    }
   },
   "outputs": [
    {
     "data": {
      "text/plain": "{'yearID': [1985,\n  1985,\n  1985,\n  1985,\n  1985,\n  1985,\n  1985,\n  1985,\n  1985,\n  1985,\n  1985,\n  1985,\n  1985,\n  1985,\n  1985,\n  1985,\n  1985,\n  1985,\n  1985,\n  1985,\n  1985,\n  1985,\n  1985,\n  1985,\n  1985,\n  1985,\n  1985,\n  1985,\n  1985,\n  1985,\n  1985,\n  1985,\n  1985,\n  1985,\n  1985,\n  1985,\n  1985,\n  1985,\n  1985,\n  1985,\n  1985,\n  1985,\n  1985,\n  1985,\n  1985,\n  1985,\n  1985,\n  1985,\n  1985,\n  1985,\n  1985,\n  1985,\n  1985,\n  1985,\n  1985,\n  1985,\n  1985,\n  1985,\n  1985,\n  1985,\n  1985,\n  1985,\n  1985,\n  1985,\n  1985,\n  1985,\n  1985,\n  1985,\n  1985,\n  1985,\n  1985,\n  1985,\n  1985,\n  1985,\n  1985,\n  1985,\n  1985,\n  1985,\n  1985,\n  1985,\n  1985,\n  1985,\n  1985,\n  1985,\n  1985,\n  1985,\n  1985,\n  1985,\n  1985,\n  1985,\n  1985,\n  1985,\n  1985,\n  1985,\n  1985,\n  1985,\n  1985,\n  1985,\n  1985,\n  1985,\n  1985,\n  1985,\n  1985,\n  1985,\n  1985,\n  1985,\n  1985,\n  1985,\n  1985,\n  1985,\n  1985,\n  1985,\n  1985,\n  1985,\n  1985,\n  1985,\n  1985,\n  1985,\n  1985,\n  1985,\n  1985,\n  1985,\n  1985,\n  1985,\n  1985,\n  1985,\n  1985,\n  1985,\n  1985,\n  1985,\n  1985,\n  1985,\n  1985,\n  1985,\n  1985,\n  1985,\n  1985,\n  1985,\n  1985,\n  1985,\n  1985,\n  1985,\n  1985,\n  1985,\n  1985,\n  1985,\n  1985,\n  1985,\n  1985,\n  1985,\n  1985,\n  1985,\n  1985,\n  1985,\n  1985,\n  1985,\n  1985,\n  1985,\n  1985,\n  1985,\n  1985,\n  1985,\n  1985,\n  1985,\n  1985,\n  1985,\n  1985,\n  1985,\n  1985,\n  1985,\n  1985,\n  1985,\n  1985,\n  1985,\n  1985,\n  1985,\n  1985,\n  1985,\n  1985,\n  1985,\n  1985,\n  1985,\n  1985,\n  1985,\n  1985,\n  1985,\n  1985,\n  1985,\n  1985,\n  1985,\n  1985,\n  1985,\n  1985,\n  1985,\n  1985,\n  1985,\n  1985,\n  1985,\n  1985,\n  1985,\n  1985,\n  1985,\n  1985,\n  1985,\n  1985,\n  1985,\n  1985,\n  1985,\n  1985,\n  1985,\n  1985,\n  1985,\n  1985,\n  1985,\n  1985,\n  1985,\n  1985,\n  1985,\n  1985,\n  1985,\n  1985,\n  1985,\n  1985,\n  1985,\n  1985,\n  1985,\n  1985,\n  1985,\n  1985,\n  1985,\n  1985,\n  1985,\n  1985,\n  1985,\n  1985,\n  1985,\n  1985,\n  1985,\n  1985,\n  1985,\n  1985,\n  1985,\n  1985,\n  1985,\n  1985,\n  1985,\n  1985,\n  1985,\n  1985,\n  1985,\n  1985,\n  1985,\n  1985,\n  1985,\n  1985,\n  1985,\n  1985,\n  1985,\n  1985,\n  1985,\n  1985,\n  1985,\n  1985,\n  1985,\n  1985,\n  1985,\n  1985,\n  1985,\n  1985,\n  1985,\n  1985,\n  1985,\n  1985,\n  1985,\n  1985,\n  1985,\n  1985,\n  1985,\n  1985,\n  1985,\n  1985,\n  1985,\n  1985,\n  1985,\n  1985,\n  1985,\n  1985,\n  1985,\n  1985,\n  1985,\n  1985,\n  1985,\n  1985,\n  1985,\n  1985,\n  1985,\n  1985,\n  1985,\n  1985,\n  1985,\n  1985,\n  1985,\n  1985,\n  1985,\n  1985,\n  1985,\n  1985,\n  1985,\n  1985,\n  1985,\n  1985,\n  1985,\n  1985,\n  1985,\n  1985,\n  1985,\n  1985,\n  1985,\n  1985,\n  1985,\n  1985,\n  1985,\n  1985,\n  1985,\n  1985,\n  1985,\n  1985,\n  1985,\n  1985,\n  1985,\n  1985,\n  1985,\n  1985,\n  1985,\n  1985,\n  1985,\n  1985,\n  1985,\n  1985,\n  1985,\n  1985,\n  1985,\n  1985,\n  1985,\n  1985,\n  1985,\n  1985,\n  1985,\n  1985,\n  1985,\n  1985,\n  1985,\n  1985,\n  1985,\n  1985,\n  1985,\n  1985,\n  1985,\n  1985,\n  1985,\n  1985,\n  1985,\n  1985,\n  1985,\n  1985,\n  1985,\n  1985,\n  1985,\n  1985,\n  1985,\n  1985,\n  1985,\n  1985,\n  1985,\n  1985,\n  1985,\n  1985,\n  1985,\n  1985,\n  1985,\n  1985,\n  1985,\n  1985,\n  1985,\n  1985,\n  1985,\n  1985,\n  1985,\n  1985,\n  1985,\n  1985,\n  1985,\n  1985,\n  1985,\n  1985,\n  1985,\n  1985,\n  1985,\n  1985,\n  1985,\n  1985,\n  1985,\n  1985,\n  1985,\n  1985,\n  1985,\n  1985,\n  1985,\n  1985,\n  1985,\n  1985,\n  1985,\n  1985,\n  1985,\n  1985,\n  1985,\n  1985,\n  1985,\n  1985,\n  1985,\n  1985,\n  1985,\n  1985,\n  1985,\n  1985,\n  1985,\n  1985,\n  1985,\n  1985,\n  1985,\n  1985,\n  1985,\n  1985,\n  1985,\n  1985,\n  1985,\n  1985,\n  1985,\n  1985,\n  1985,\n  1985,\n  1985,\n  1985,\n  1985,\n  1985,\n  1985,\n  1985,\n  1985,\n  1985,\n  1985,\n  1985,\n  1985,\n  1985,\n  1985,\n  1985,\n  1985,\n  1985,\n  1985,\n  1985,\n  1985,\n  1985,\n  1985,\n  1985,\n  1985,\n  1985,\n  1985,\n  1985,\n  1985,\n  1985,\n  1985,\n  1985,\n  1985,\n  1985,\n  1985,\n  1985,\n  1985,\n  1985,\n  1985,\n  1985,\n  1985,\n  1985,\n  1985,\n  1985,\n  1985,\n  1985,\n  1985,\n  1985,\n  1985,\n  1985,\n  1985,\n  1985,\n  1985,\n  1985,\n  1985,\n  1985,\n  1985,\n  1985,\n  1985,\n  1985,\n  1985,\n  1985,\n  1985,\n  1985,\n  1985,\n  1985,\n  1985,\n  1985,\n  1985,\n  1985,\n  1985,\n  1985,\n  1985,\n  1985,\n  1985,\n  1985,\n  1985,\n  1985,\n  1985,\n  1985,\n  1985,\n  1985,\n  1985,\n  1985,\n  1985,\n  1985,\n  1985,\n  1985,\n  1985,\n  1985,\n  1985,\n  1985,\n  1985,\n  1985,\n  1985,\n  1985,\n  1985,\n  1985,\n  1985,\n  1985,\n  1985,\n  1985,\n  1985,\n  1985,\n  1985,\n  1985,\n  1985,\n  1985,\n  1985,\n  1985,\n  1985,\n  1986,\n  1986,\n  1986,\n  1986,\n  1986,\n  1986,\n  1986,\n  1986,\n  1986,\n  1986,\n  1986,\n  1986,\n  1986,\n  1986,\n  1986,\n  1986,\n  1986,\n  1986,\n  1986,\n  1986,\n  1986,\n  1986,\n  1986,\n  1986,\n  1986,\n  1986,\n  1986,\n  1986,\n  1986,\n  1986,\n  1986,\n  1986,\n  1986,\n  1986,\n  1986,\n  1986,\n  1986,\n  1986,\n  1986,\n  1986,\n  1986,\n  1986,\n  1986,\n  1986,\n  1986,\n  1986,\n  1986,\n  1986,\n  1986,\n  1986,\n  1986,\n  1986,\n  1986,\n  1986,\n  1986,\n  1986,\n  1986,\n  1986,\n  1986,\n  1986,\n  1986,\n  1986,\n  1986,\n  1986,\n  1986,\n  1986,\n  1986,\n  1986,\n  1986,\n  1986,\n  1986,\n  1986,\n  1986,\n  1986,\n  1986,\n  1986,\n  1986,\n  1986,\n  1986,\n  1986,\n  1986,\n  1986,\n  1986,\n  1986,\n  1986,\n  1986,\n  1986,\n  1986,\n  1986,\n  1986,\n  1986,\n  1986,\n  1986,\n  1986,\n  1986,\n  1986,\n  1986,\n  1986,\n  1986,\n  1986,\n  1986,\n  1986,\n  1986,\n  1986,\n  1986,\n  1986,\n  1986,\n  1986,\n  1986,\n  1986,\n  1986,\n  1986,\n  1986,\n  1986,\n  1986,\n  1986,\n  1986,\n  1986,\n  1986,\n  1986,\n  1986,\n  1986,\n  1986,\n  1986,\n  1986,\n  1986,\n  1986,\n  1986,\n  1986,\n  1986,\n  1986,\n  1986,\n  1986,\n  1986,\n  1986,\n  1986,\n  1986,\n  1986,\n  1986,\n  1986,\n  1986,\n  1986,\n  1986,\n  1986,\n  1986,\n  1986,\n  1986,\n  1986,\n  1986,\n  1986,\n  1986,\n  1986,\n  1986,\n  1986,\n  1986,\n  1986,\n  1986,\n  1986,\n  1986,\n  1986,\n  1986,\n  1986,\n  1986,\n  1986,\n  1986,\n  1986,\n  1986,\n  1986,\n  1986,\n  1986,\n  1986,\n  1986,\n  1986,\n  1986,\n  1986,\n  1986,\n  1986,\n  1986,\n  1986,\n  1986,\n  1986,\n  1986,\n  1986,\n  1986,\n  1986,\n  1986,\n  1986,\n  1986,\n  1986,\n  1986,\n  1986,\n  1986,\n  1986,\n  1986,\n  1986,\n  1986,\n  1986,\n  1986,\n  1986,\n  1986,\n  1986,\n  1986,\n  1986,\n  1986,\n  1986,\n  1986,\n  1986,\n  1986,\n  1986,\n  1986,\n  1986,\n  1986,\n  1986,\n  1986,\n  1986,\n  1986,\n  1986,\n  1986,\n  1986,\n  1986,\n  1986,\n  1986,\n  1986,\n  1986,\n  1986,\n  1986,\n  1986,\n  1986,\n  1986,\n  1986,\n  1986,\n  1986,\n  1986,\n  1986,\n  1986,\n  1986,\n  1986,\n  1986,\n  1986,\n  1986,\n  1986,\n  1986,\n  1986,\n  1986,\n  1986,\n  1986,\n  1986,\n  1986,\n  1986,\n  1986,\n  1986,\n  1986,\n  1986,\n  1986,\n  1986,\n  1986,\n  1986,\n  1986,\n  1986,\n  1986,\n  1986,\n  1986,\n  1986,\n  1986,\n  1986,\n  1986,\n  1986,\n  1986,\n  1986,\n  1986,\n  1986,\n  1986,\n  1986,\n  1986,\n  1986,\n  1986,\n  1986,\n  1986,\n  1986,\n  1986,\n  1986,\n  1986,\n  1986,\n  1986,\n  1986,\n  1986,\n  1986,\n  1986,\n  1986,\n  1986,\n  1986,\n  1986,\n  1986,\n  1986,\n  1986,\n  1986,\n  1986,\n  1986,\n  1986,\n  1986,\n  1986,\n  1986,\n  1986,\n  1986,\n  1986,\n  1986,\n  1986,\n  1986,\n  1986,\n  1986,\n  1986,\n  1986,\n  1986,\n  1986,\n  1986,\n  1986,\n  1986,\n  1986,\n  1986,\n  1986,\n  1986,\n  1986,\n  1986,\n  1986,\n  1986,\n  1986,\n  1986,\n  1986,\n  1986,\n  1986,\n  1986,\n  1986,\n  1986,\n  1986,\n  1986,\n  1986,\n  1986,\n  1986,\n  1986,\n  1986,\n  1986,\n  1986,\n  1986,\n  1986,\n  1986,\n  1986,\n  1986,\n  1986,\n  1986,\n  1986,\n  1986,\n  1986,\n  1986,\n  1986,\n  1986,\n  1986,\n  1986,\n  1986,\n  1986,\n  1986,\n  1986,\n  1986,\n  1986,\n  1986,\n  1986,\n  1986,\n  1986,\n  1986,\n  1986,\n  1986,\n  1986,\n  1986,\n  1986,\n  1986,\n  1986,\n  1986,\n  1986,\n  1986,\n  1986,\n  1986,\n  1986,\n  1986,\n  1986,\n  1986,\n  1986,\n  1986,\n  1986,\n  1986,\n  1986,\n  1986,\n  1986,\n  1986,\n  1986,\n  1986,\n  1986,\n  1986,\n  1986,\n  1986,\n  1986,\n  1986,\n  1986,\n  1986,\n  1986,\n  1986,\n  1986,\n  1986,\n  1986,\n  1986,\n  1986,\n  1986,\n  1986,\n  1986,\n  1986,\n  1986,\n  1986,\n  1986,\n  1986,\n  1986,\n  1986,\n  1986,\n  1986,\n  1986,\n  1986,\n  1986,\n  1986,\n  1986,\n  1986,\n  1986,\n  1986,\n  1986,\n  1986,\n  1986,\n  1986,\n  1986,\n  1986,\n  1986,\n  1986,\n  1986,\n  1986,\n  1986,\n  1986,\n  1986,\n  1986,\n  1986,\n  1986,\n  1986,\n  1986,\n  1986,\n  1986,\n  1986,\n  ...],\n 'teamID': ['ATL',\n  'ATL',\n  'ATL',\n  'ATL',\n  'ATL',\n  'ATL',\n  'ATL',\n  'ATL',\n  'ATL',\n  'ATL',\n  'ATL',\n  'ATL',\n  'ATL',\n  'ATL',\n  'ATL',\n  'ATL',\n  'ATL',\n  'ATL',\n  'ATL',\n  'ATL',\n  'ATL',\n  'ATL',\n  'BAL',\n  'BAL',\n  'BAL',\n  'BAL',\n  'BAL',\n  'BAL',\n  'BAL',\n  'BAL',\n  'BAL',\n  'BAL',\n  'BAL',\n  'BAL',\n  'BAL',\n  'BAL',\n  'BAL',\n  'BAL',\n  'BAL',\n  'BAL',\n  'BAL',\n  'BAL',\n  'BAL',\n  'BAL',\n  'BOS',\n  'BOS',\n  'BOS',\n  'BOS',\n  'BOS',\n  'BOS',\n  'BOS',\n  'BOS',\n  'BOS',\n  'BOS',\n  'BOS',\n  'BOS',\n  'BOS',\n  'BOS',\n  'BOS',\n  'BOS',\n  'BOS',\n  'BOS',\n  'BOS',\n  'BOS',\n  'BOS',\n  'BOS',\n  'BOS',\n  'BOS',\n  'BOS',\n  'CAL',\n  'CAL',\n  'CAL',\n  'CAL',\n  'CAL',\n  'CAL',\n  'CAL',\n  'CAL',\n  'CAL',\n  'CAL',\n  'CAL',\n  'CAL',\n  'CAL',\n  'CAL',\n  'CAL',\n  'CAL',\n  'CAL',\n  'CAL',\n  'CAL',\n  'CAL',\n  'CAL',\n  'CAL',\n  'CAL',\n  'CAL',\n  'CAL',\n  'CAL',\n  'CAL',\n  'CAL',\n  'CHA',\n  'CHA',\n  'CHA',\n  'CHA',\n  'CHA',\n  'CHA',\n  'CHA',\n  'CHA',\n  'CHA',\n  'CHA',\n  'CHA',\n  'CHA',\n  'CHA',\n  'CHA',\n  'CHA',\n  'CHA',\n  'CHA',\n  'CHA',\n  'CHA',\n  'CHA',\n  'CHA',\n  'CHN',\n  'CHN',\n  'CHN',\n  'CHN',\n  'CHN',\n  'CHN',\n  'CHN',\n  'CHN',\n  'CHN',\n  'CHN',\n  'CHN',\n  'CHN',\n  'CHN',\n  'CHN',\n  'CHN',\n  'CHN',\n  'CHN',\n  'CHN',\n  'CHN',\n  'CHN',\n  'CHN',\n  'CHN',\n  'CIN',\n  'CIN',\n  'CIN',\n  'CIN',\n  'CIN',\n  'CIN',\n  'CIN',\n  'CIN',\n  'CIN',\n  'CIN',\n  'CIN',\n  'CIN',\n  'CIN',\n  'CIN',\n  'CIN',\n  'CIN',\n  'CIN',\n  'CIN',\n  'CIN',\n  'CIN',\n  'CIN',\n  'CIN',\n  'CLE',\n  'CLE',\n  'CLE',\n  'CLE',\n  'CLE',\n  'CLE',\n  'CLE',\n  'CLE',\n  'CLE',\n  'CLE',\n  'CLE',\n  'CLE',\n  'CLE',\n  'CLE',\n  'CLE',\n  'CLE',\n  'CLE',\n  'CLE',\n  'CLE',\n  'CLE',\n  'DET',\n  'DET',\n  'DET',\n  'DET',\n  'DET',\n  'DET',\n  'DET',\n  'DET',\n  'DET',\n  'DET',\n  'DET',\n  'DET',\n  'DET',\n  'DET',\n  'DET',\n  'DET',\n  'DET',\n  'DET',\n  'DET',\n  'DET',\n  'HOU',\n  'HOU',\n  'HOU',\n  'HOU',\n  'HOU',\n  'HOU',\n  'HOU',\n  'HOU',\n  'HOU',\n  'HOU',\n  'HOU',\n  'HOU',\n  'HOU',\n  'HOU',\n  'HOU',\n  'HOU',\n  'HOU',\n  'HOU',\n  'HOU',\n  'HOU',\n  'KCA',\n  'KCA',\n  'KCA',\n  'KCA',\n  'KCA',\n  'KCA',\n  'KCA',\n  'KCA',\n  'KCA',\n  'KCA',\n  'KCA',\n  'KCA',\n  'KCA',\n  'KCA',\n  'KCA',\n  'KCA',\n  'KCA',\n  'KCA',\n  'KCA',\n  'KCA',\n  'KCA',\n  'KCA',\n  'LAN',\n  'LAN',\n  'LAN',\n  'LAN',\n  'LAN',\n  'LAN',\n  'LAN',\n  'LAN',\n  'LAN',\n  'LAN',\n  'LAN',\n  'LAN',\n  'LAN',\n  'LAN',\n  'LAN',\n  'LAN',\n  'LAN',\n  'LAN',\n  'LAN',\n  'LAN',\n  'LAN',\n  'LAN',\n  'LAN',\n  'MIN',\n  'MIN',\n  'MIN',\n  'MIN',\n  'MIN',\n  'MIN',\n  'MIN',\n  'MIN',\n  'MIN',\n  'MIN',\n  'MIN',\n  'MIN',\n  'MIN',\n  'MIN',\n  'MIN',\n  'MIN',\n  'MIN',\n  'MIN',\n  'MIN',\n  'ML4',\n  'ML4',\n  'ML4',\n  'ML4',\n  'ML4',\n  'ML4',\n  'ML4',\n  'ML4',\n  'ML4',\n  'ML4',\n  'ML4',\n  'ML4',\n  'ML4',\n  'ML4',\n  'ML4',\n  'ML4',\n  'ML4',\n  'ML4',\n  'ML4',\n  'MON',\n  'MON',\n  'MON',\n  'MON',\n  'MON',\n  'MON',\n  'MON',\n  'MON',\n  'MON',\n  'MON',\n  'MON',\n  'MON',\n  'MON',\n  'MON',\n  'MON',\n  'MON',\n  'MON',\n  'MON',\n  'MON',\n  'MON',\n  'NYA',\n  'NYA',\n  'NYA',\n  'NYA',\n  'NYA',\n  'NYA',\n  'NYA',\n  'NYA',\n  'NYA',\n  'NYA',\n  'NYA',\n  'NYA',\n  'NYA',\n  'NYA',\n  'NYA',\n  'NYA',\n  'NYA',\n  'NYA',\n  'NYA',\n  'NYA',\n  'NYN',\n  'NYN',\n  'NYN',\n  'NYN',\n  'NYN',\n  'NYN',\n  'NYN',\n  'NYN',\n  'NYN',\n  'NYN',\n  'NYN',\n  'NYN',\n  'NYN',\n  'NYN',\n  'NYN',\n  'NYN',\n  'NYN',\n  'NYN',\n  'NYN',\n  'NYN',\n  'NYN',\n  'OAK',\n  'OAK',\n  'OAK',\n  'OAK',\n  'OAK',\n  'OAK',\n  'OAK',\n  'OAK',\n  'OAK',\n  'OAK',\n  'OAK',\n  'OAK',\n  'OAK',\n  'OAK',\n  'OAK',\n  'OAK',\n  'OAK',\n  'OAK',\n  'OAK',\n  'OAK',\n  'OAK',\n  'PHI',\n  'PHI',\n  'PHI',\n  'PHI',\n  'PHI',\n  'PHI',\n  'PHI',\n  'PHI',\n  'PHI',\n  'PHI',\n  'PHI',\n  'PHI',\n  'PHI',\n  'PHI',\n  'PHI',\n  'PHI',\n  'PHI',\n  'PHI',\n  'PHI',\n  'PIT',\n  'PIT',\n  'PIT',\n  'PIT',\n  'PIT',\n  'PIT',\n  'PIT',\n  'PIT',\n  'PIT',\n  'PIT',\n  'PIT',\n  'PIT',\n  'PIT',\n  'PIT',\n  'PIT',\n  'PIT',\n  'PIT',\n  'PIT',\n  'PIT',\n  'SDN',\n  'SDN',\n  'SDN',\n  'SDN',\n  'SDN',\n  'SDN',\n  'SDN',\n  'SDN',\n  'SDN',\n  'SDN',\n  'SDN',\n  'SDN',\n  'SDN',\n  'SDN',\n  'SDN',\n  'SDN',\n  'SDN',\n  'SDN',\n  'SDN',\n  'SDN',\n  'SDN',\n  'SDN',\n  'SEA',\n  'SEA',\n  'SEA',\n  'SEA',\n  'SEA',\n  'SEA',\n  'SEA',\n  'SEA',\n  'SEA',\n  'SEA',\n  'SEA',\n  'SEA',\n  'SEA',\n  'SEA',\n  'SEA',\n  'SEA',\n  'SEA',\n  'SEA',\n  'SFN',\n  'SFN',\n  'SFN',\n  'SFN',\n  'SFN',\n  'SFN',\n  'SFN',\n  'SFN',\n  'SFN',\n  'SFN',\n  'SFN',\n  'SFN',\n  'SFN',\n  'SFN',\n  'SFN',\n  'SFN',\n  'SFN',\n  'SFN',\n  'SFN',\n  'SFN',\n  'SLN',\n  'SLN',\n  'SLN',\n  'SLN',\n  'SLN',\n  'SLN',\n  'SLN',\n  'SLN',\n  'SLN',\n  'SLN',\n  'SLN',\n  'SLN',\n  'SLN',\n  'SLN',\n  'SLN',\n  'SLN',\n  'SLN',\n  'SLN',\n  'SLN',\n  'SLN',\n  'SLN',\n  'SLN',\n  'SLN',\n  'SLN',\n  'SLN',\n  'TEX',\n  'TEX',\n  'TEX',\n  'TEX',\n  'TEX',\n  'TEX',\n  'TEX',\n  'TEX',\n  'TEX',\n  'TEX',\n  'TEX',\n  'TEX',\n  'TEX',\n  'TEX',\n  'TEX',\n  'TEX',\n  'TEX',\n  'TEX',\n  'TEX',\n  'TEX',\n  'TOR',\n  'TOR',\n  'TOR',\n  'TOR',\n  'TOR',\n  'TOR',\n  'TOR',\n  'TOR',\n  'TOR',\n  'TOR',\n  'TOR',\n  'TOR',\n  'TOR',\n  'TOR',\n  'TOR',\n  'TOR',\n  'TOR',\n  'TOR',\n  'TOR',\n  'TOR',\n  'ATL',\n  'ATL',\n  'ATL',\n  'ATL',\n  'ATL',\n  'ATL',\n  'ATL',\n  'ATL',\n  'ATL',\n  'ATL',\n  'ATL',\n  'ATL',\n  'ATL',\n  'ATL',\n  'ATL',\n  'ATL',\n  'ATL',\n  'ATL',\n  'ATL',\n  'ATL',\n  'ATL',\n  'ATL',\n  'ATL',\n  'ATL',\n  'ATL',\n  'ATL',\n  'ATL',\n  'ATL',\n  'ATL',\n  'BAL',\n  'BAL',\n  'BAL',\n  'BAL',\n  'BAL',\n  'BAL',\n  'BAL',\n  'BAL',\n  'BAL',\n  'BAL',\n  'BAL',\n  'BAL',\n  'BAL',\n  'BAL',\n  'BAL',\n  'BAL',\n  'BAL',\n  'BAL',\n  'BAL',\n  'BAL',\n  'BAL',\n  'BAL',\n  'BAL',\n  'BAL',\n  'BAL',\n  'BAL',\n  'BAL',\n  'BAL',\n  'BAL',\n  'BOS',\n  'BOS',\n  'BOS',\n  'BOS',\n  'BOS',\n  'BOS',\n  'BOS',\n  'BOS',\n  'BOS',\n  'BOS',\n  'BOS',\n  'BOS',\n  'BOS',\n  'BOS',\n  'BOS',\n  'BOS',\n  'BOS',\n  'BOS',\n  'BOS',\n  'BOS',\n  'BOS',\n  'BOS',\n  'BOS',\n  'BOS',\n  'BOS',\n  'BOS',\n  'BOS',\n  'BOS',\n  'BOS',\n  'CAL',\n  'CAL',\n  'CAL',\n  'CAL',\n  'CAL',\n  'CAL',\n  'CAL',\n  'CAL',\n  'CAL',\n  'CAL',\n  'CAL',\n  'CAL',\n  'CAL',\n  'CAL',\n  'CAL',\n  'CAL',\n  'CAL',\n  'CAL',\n  'CAL',\n  'CAL',\n  'CAL',\n  'CAL',\n  'CAL',\n  'CAL',\n  'CAL',\n  'CAL',\n  'CAL',\n  'CAL',\n  'CAL',\n  'CHA',\n  'CHA',\n  'CHA',\n  'CHA',\n  'CHA',\n  'CHA',\n  'CHA',\n  'CHA',\n  'CHA',\n  'CHA',\n  'CHA',\n  'CHA',\n  'CHA',\n  'CHA',\n  'CHA',\n  'CHA',\n  'CHA',\n  'CHA',\n  'CHA',\n  'CHA',\n  'CHA',\n  'CHA',\n  'CHA',\n  'CHA',\n  'CHA',\n  'CHA',\n  'CHA',\n  'CHA',\n  'CHA',\n  'CHA',\n  'CHA',\n  'CHN',\n  'CHN',\n  'CHN',\n  'CHN',\n  'CHN',\n  'CHN',\n  'CHN',\n  'CHN',\n  'CHN',\n  'CHN',\n  'CHN',\n  'CHN',\n  'CHN',\n  'CHN',\n  'CHN',\n  'CHN',\n  'CHN',\n  'CHN',\n  'CHN',\n  'CHN',\n  'CHN',\n  'CHN',\n  'CHN',\n  'CHN',\n  'CHN',\n  'CHN',\n  'CHN',\n  'CHN',\n  'CHN',\n  'CHN',\n  'CHN',\n  'CIN',\n  'CIN',\n  'CIN',\n  'CIN',\n  'CIN',\n  'CIN',\n  'CIN',\n  'CIN',\n  'CIN',\n  'CIN',\n  'CIN',\n  'CIN',\n  'CIN',\n  'CIN',\n  'CIN',\n  'CIN',\n  'CIN',\n  'CIN',\n  'CIN',\n  'CIN',\n  'CIN',\n  'CIN',\n  'CIN',\n  'CIN',\n  'CIN',\n  'CIN',\n  'CIN',\n  'CIN',\n  'CIN',\n  'CIN',\n  'CLE',\n  'CLE',\n  'CLE',\n  'CLE',\n  'CLE',\n  'CLE',\n  'CLE',\n  'CLE',\n  'CLE',\n  'CLE',\n  'CLE',\n  'CLE',\n  'CLE',\n  'CLE',\n  'CLE',\n  'CLE',\n  'CLE',\n  'CLE',\n  'CLE',\n  'CLE',\n  'CLE',\n  'CLE',\n  'CLE',\n  'CLE',\n  'CLE',\n  'CLE',\n  'CLE',\n  'CLE',\n  'CLE',\n  'CLE',\n  'CLE',\n  'DET',\n  'DET',\n  'DET',\n  'DET',\n  'DET',\n  'DET',\n  'DET',\n  'DET',\n  'DET',\n  'DET',\n  'DET',\n  'DET',\n  'DET',\n  'DET',\n  'DET',\n  'DET',\n  'DET',\n  'DET',\n  'DET',\n  'DET',\n  'DET',\n  'DET',\n  'DET',\n  'DET',\n  'DET',\n  'DET',\n  'DET',\n  'HOU',\n  'HOU',\n  'HOU',\n  'HOU',\n  'HOU',\n  'HOU',\n  'HOU',\n  'HOU',\n  'HOU',\n  'HOU',\n  'HOU',\n  'HOU',\n  'HOU',\n  'HOU',\n  'HOU',\n  'HOU',\n  'HOU',\n  'HOU',\n  'HOU',\n  'HOU',\n  'HOU',\n  'HOU',\n  'HOU',\n  'HOU',\n  'KCA',\n  'KCA',\n  'KCA',\n  'KCA',\n  'KCA',\n  'KCA',\n  'KCA',\n  'KCA',\n  'KCA',\n  'KCA',\n  'KCA',\n  'KCA',\n  'KCA',\n  'KCA',\n  'KCA',\n  'KCA',\n  'KCA',\n  'KCA',\n  'KCA',\n  'KCA',\n  'KCA',\n  'KCA',\n  'KCA',\n  'KCA',\n  'KCA',\n  'KCA',\n  'KCA',\n  'KCA',\n  'LAN',\n  'LAN',\n  'LAN',\n  'LAN',\n  'LAN',\n  'LAN',\n  'LAN',\n  'LAN',\n  'LAN',\n  'LAN',\n  'LAN',\n  'LAN',\n  'LAN',\n  'LAN',\n  'LAN',\n  'LAN',\n  'LAN',\n  'LAN',\n  'LAN',\n  'LAN',\n  'LAN',\n  'LAN',\n  'LAN',\n  'LAN',\n  'LAN',\n  'LAN',\n  'LAN',\n  'LAN',\n  'LAN',\n  'LAN',\n  'LAN',\n  'LAN',\n  'MIN',\n  'MIN',\n  'MIN',\n  'MIN',\n  'MIN',\n  'MIN',\n  'MIN',\n  'MIN',\n  'MIN',\n  'MIN',\n  'MIN',\n  'MIN',\n  'MIN',\n  'MIN',\n  'MIN',\n  'MIN',\n  'MIN',\n  'MIN',\n  'MIN',\n  'MIN',\n  'MIN',\n  'MIN',\n  'ML4',\n  'ML4',\n  'ML4',\n  'ML4',\n  'ML4',\n  'ML4',\n  'ML4',\n  'ML4',\n  'ML4',\n  'ML4',\n  'ML4',\n  'ML4',\n  'ML4',\n  'ML4',\n  'ML4',\n  'ML4',\n  'ML4',\n  'ML4',\n  'ML4',\n  'ML4',\n  'ML4',\n  'ML4',\n  'ML4',\n  'ML4',\n  'ML4',\n  'ML4',\n  'ML4',\n  'ML4',\n  'MON',\n  'MON',\n  'MON',\n  'MON',\n  'MON',\n  'MON',\n  'MON',\n  'MON',\n  'MON',\n  'MON',\n  'MON',\n  'MON',\n  'MON',\n  'MON',\n  'MON',\n  'MON',\n  'MON',\n  'MON',\n  'MON',\n  'MON',\n  'MON',\n  'MON',\n  'MON',\n  'MON',\n  'MON',\n  'MON',\n  'MON',\n  'MON',\n  'MON',\n  'MON',\n  'MON',\n  'MON',\n  'NYA',\n  'NYA',\n  'NYA',\n  'NYA',\n  'NYA',\n  'NYA',\n  'NYA',\n  'NYA',\n  'NYA',\n  'NYA',\n  'NYA',\n  'NYA',\n  'NYA',\n  'NYA',\n  'NYA',\n  'NYA',\n  'NYA',\n  'NYA',\n  ...],\n 'lgID': ['NL',\n  'NL',\n  'NL',\n  'NL',\n  'NL',\n  'NL',\n  'NL',\n  'NL',\n  'NL',\n  'NL',\n  'NL',\n  'NL',\n  'NL',\n  'NL',\n  'NL',\n  'NL',\n  'NL',\n  'NL',\n  'NL',\n  'NL',\n  'NL',\n  'NL',\n  'AL',\n  'AL',\n  'AL',\n  'AL',\n  'AL',\n  'AL',\n  'AL',\n  'AL',\n  'AL',\n  'AL',\n  'AL',\n  'AL',\n  'AL',\n  'AL',\n  'AL',\n  'AL',\n  'AL',\n  'AL',\n  'AL',\n  'AL',\n  'AL',\n  'AL',\n  'AL',\n  'AL',\n  'AL',\n  'AL',\n  'AL',\n  'AL',\n  'AL',\n  'AL',\n  'AL',\n  'AL',\n  'AL',\n  'AL',\n  'AL',\n  'AL',\n  'AL',\n  'AL',\n  'AL',\n  'AL',\n  'AL',\n  'AL',\n  'AL',\n  'AL',\n  'AL',\n  'AL',\n  'AL',\n  'AL',\n  'AL',\n  'AL',\n  'AL',\n  'AL',\n  'AL',\n  'AL',\n  'AL',\n  'AL',\n  'AL',\n  'AL',\n  'AL',\n  'AL',\n  'AL',\n  'AL',\n  'AL',\n  'AL',\n  'AL',\n  'AL',\n  'AL',\n  'AL',\n  'AL',\n  'AL',\n  'AL',\n  'AL',\n  'AL',\n  'AL',\n  'AL',\n  'AL',\n  'AL',\n  'AL',\n  'AL',\n  'AL',\n  'AL',\n  'AL',\n  'AL',\n  'AL',\n  'AL',\n  'AL',\n  'AL',\n  'AL',\n  'AL',\n  'AL',\n  'AL',\n  'AL',\n  'AL',\n  'AL',\n  'AL',\n  'AL',\n  'NL',\n  'NL',\n  'NL',\n  'NL',\n  'NL',\n  'NL',\n  'NL',\n  'NL',\n  'NL',\n  'NL',\n  'NL',\n  'NL',\n  'NL',\n  'NL',\n  'NL',\n  'NL',\n  'NL',\n  'NL',\n  'NL',\n  'NL',\n  'NL',\n  'NL',\n  'NL',\n  'NL',\n  'NL',\n  'NL',\n  'NL',\n  'NL',\n  'NL',\n  'NL',\n  'NL',\n  'NL',\n  'NL',\n  'NL',\n  'NL',\n  'NL',\n  'NL',\n  'NL',\n  'NL',\n  'NL',\n  'NL',\n  'NL',\n  'NL',\n  'NL',\n  'AL',\n  'AL',\n  'AL',\n  'AL',\n  'AL',\n  'AL',\n  'AL',\n  'AL',\n  'AL',\n  'AL',\n  'AL',\n  'AL',\n  'AL',\n  'AL',\n  'AL',\n  'AL',\n  'AL',\n  'AL',\n  'AL',\n  'AL',\n  'AL',\n  'AL',\n  'AL',\n  'AL',\n  'AL',\n  'AL',\n  'AL',\n  'AL',\n  'AL',\n  'AL',\n  'AL',\n  'AL',\n  'AL',\n  'AL',\n  'AL',\n  'AL',\n  'AL',\n  'AL',\n  'AL',\n  'AL',\n  'NL',\n  'NL',\n  'NL',\n  'NL',\n  'NL',\n  'NL',\n  'NL',\n  'NL',\n  'NL',\n  'NL',\n  'NL',\n  'NL',\n  'NL',\n  'NL',\n  'NL',\n  'NL',\n  'NL',\n  'NL',\n  'NL',\n  'NL',\n  'AL',\n  'AL',\n  'AL',\n  'AL',\n  'AL',\n  'AL',\n  'AL',\n  'AL',\n  'AL',\n  'AL',\n  'AL',\n  'AL',\n  'AL',\n  'AL',\n  'AL',\n  'AL',\n  'AL',\n  'AL',\n  'AL',\n  'AL',\n  'AL',\n  'AL',\n  'NL',\n  'NL',\n  'NL',\n  'NL',\n  'NL',\n  'NL',\n  'NL',\n  'NL',\n  'NL',\n  'NL',\n  'NL',\n  'NL',\n  'NL',\n  'NL',\n  'NL',\n  'NL',\n  'NL',\n  'NL',\n  'NL',\n  'NL',\n  'NL',\n  'NL',\n  'NL',\n  'AL',\n  'AL',\n  'AL',\n  'AL',\n  'AL',\n  'AL',\n  'AL',\n  'AL',\n  'AL',\n  'AL',\n  'AL',\n  'AL',\n  'AL',\n  'AL',\n  'AL',\n  'AL',\n  'AL',\n  'AL',\n  'AL',\n  'AL',\n  'AL',\n  'AL',\n  'AL',\n  'AL',\n  'AL',\n  'AL',\n  'AL',\n  'AL',\n  'AL',\n  'AL',\n  'AL',\n  'AL',\n  'AL',\n  'AL',\n  'AL',\n  'AL',\n  'AL',\n  'AL',\n  'NL',\n  'NL',\n  'NL',\n  'NL',\n  'NL',\n  'NL',\n  'NL',\n  'NL',\n  'NL',\n  'NL',\n  'NL',\n  'NL',\n  'NL',\n  'NL',\n  'NL',\n  'NL',\n  'NL',\n  'NL',\n  'NL',\n  'NL',\n  'AL',\n  'AL',\n  'AL',\n  'AL',\n  'AL',\n  'AL',\n  'AL',\n  'AL',\n  'AL',\n  'AL',\n  'AL',\n  'AL',\n  'AL',\n  'AL',\n  'AL',\n  'AL',\n  'AL',\n  'AL',\n  'AL',\n  'AL',\n  'NL',\n  'NL',\n  'NL',\n  'NL',\n  'NL',\n  'NL',\n  'NL',\n  'NL',\n  'NL',\n  'NL',\n  'NL',\n  'NL',\n  'NL',\n  'NL',\n  'NL',\n  'NL',\n  'NL',\n  'NL',\n  'NL',\n  'NL',\n  'NL',\n  'AL',\n  'AL',\n  'AL',\n  'AL',\n  'AL',\n  'AL',\n  'AL',\n  'AL',\n  'AL',\n  'AL',\n  'AL',\n  'AL',\n  'AL',\n  'AL',\n  'AL',\n  'AL',\n  'AL',\n  'AL',\n  'AL',\n  'AL',\n  'AL',\n  'NL',\n  'NL',\n  'NL',\n  'NL',\n  'NL',\n  'NL',\n  'NL',\n  'NL',\n  'NL',\n  'NL',\n  'NL',\n  'NL',\n  'NL',\n  'NL',\n  'NL',\n  'NL',\n  'NL',\n  'NL',\n  'NL',\n  'NL',\n  'NL',\n  'NL',\n  'NL',\n  'NL',\n  'NL',\n  'NL',\n  'NL',\n  'NL',\n  'NL',\n  'NL',\n  'NL',\n  'NL',\n  'NL',\n  'NL',\n  'NL',\n  'NL',\n  'NL',\n  'NL',\n  'NL',\n  'NL',\n  'NL',\n  'NL',\n  'NL',\n  'NL',\n  'NL',\n  'NL',\n  'NL',\n  'NL',\n  'NL',\n  'NL',\n  'NL',\n  'NL',\n  'NL',\n  'NL',\n  'NL',\n  'NL',\n  'NL',\n  'NL',\n  'NL',\n  'NL',\n  'AL',\n  'AL',\n  'AL',\n  'AL',\n  'AL',\n  'AL',\n  'AL',\n  'AL',\n  'AL',\n  'AL',\n  'AL',\n  'AL',\n  'AL',\n  'AL',\n  'AL',\n  'AL',\n  'AL',\n  'AL',\n  'NL',\n  'NL',\n  'NL',\n  'NL',\n  'NL',\n  'NL',\n  'NL',\n  'NL',\n  'NL',\n  'NL',\n  'NL',\n  'NL',\n  'NL',\n  'NL',\n  'NL',\n  'NL',\n  'NL',\n  'NL',\n  'NL',\n  'NL',\n  'NL',\n  'NL',\n  'NL',\n  'NL',\n  'NL',\n  'NL',\n  'NL',\n  'NL',\n  'NL',\n  'NL',\n  'NL',\n  'NL',\n  'NL',\n  'NL',\n  'NL',\n  'NL',\n  'NL',\n  'NL',\n  'NL',\n  'NL',\n  'NL',\n  'NL',\n  'NL',\n  'NL',\n  'NL',\n  'AL',\n  'AL',\n  'AL',\n  'AL',\n  'AL',\n  'AL',\n  'AL',\n  'AL',\n  'AL',\n  'AL',\n  'AL',\n  'AL',\n  'AL',\n  'AL',\n  'AL',\n  'AL',\n  'AL',\n  'AL',\n  'AL',\n  'AL',\n  'AL',\n  'AL',\n  'AL',\n  'AL',\n  'AL',\n  'AL',\n  'AL',\n  'AL',\n  'AL',\n  'AL',\n  'AL',\n  'AL',\n  'AL',\n  'AL',\n  'AL',\n  'AL',\n  'AL',\n  'AL',\n  'AL',\n  'AL',\n  'NL',\n  'NL',\n  'NL',\n  'NL',\n  'NL',\n  'NL',\n  'NL',\n  'NL',\n  'NL',\n  'NL',\n  'NL',\n  'NL',\n  'NL',\n  'NL',\n  'NL',\n  'NL',\n  'NL',\n  'NL',\n  'NL',\n  'NL',\n  'NL',\n  'NL',\n  'NL',\n  'NL',\n  'NL',\n  'NL',\n  'NL',\n  'NL',\n  'NL',\n  'AL',\n  'AL',\n  'AL',\n  'AL',\n  'AL',\n  'AL',\n  'AL',\n  'AL',\n  'AL',\n  'AL',\n  'AL',\n  'AL',\n  'AL',\n  'AL',\n  'AL',\n  'AL',\n  'AL',\n  'AL',\n  'AL',\n  'AL',\n  'AL',\n  'AL',\n  'AL',\n  'AL',\n  'AL',\n  'AL',\n  'AL',\n  'AL',\n  'AL',\n  'AL',\n  'AL',\n  'AL',\n  'AL',\n  'AL',\n  'AL',\n  'AL',\n  'AL',\n  'AL',\n  'AL',\n  'AL',\n  'AL',\n  'AL',\n  'AL',\n  'AL',\n  'AL',\n  'AL',\n  'AL',\n  'AL',\n  'AL',\n  'AL',\n  'AL',\n  'AL',\n  'AL',\n  'AL',\n  'AL',\n  'AL',\n  'AL',\n  'AL',\n  'AL',\n  'AL',\n  'AL',\n  'AL',\n  'AL',\n  'AL',\n  'AL',\n  'AL',\n  'AL',\n  'AL',\n  'AL',\n  'AL',\n  'AL',\n  'AL',\n  'AL',\n  'AL',\n  'AL',\n  'AL',\n  'AL',\n  'AL',\n  'AL',\n  'AL',\n  'AL',\n  'AL',\n  'AL',\n  'AL',\n  'AL',\n  'AL',\n  'AL',\n  'AL',\n  'AL',\n  'AL',\n  'AL',\n  'AL',\n  'AL',\n  'AL',\n  'AL',\n  'AL',\n  'AL',\n  'AL',\n  'AL',\n  'AL',\n  'AL',\n  'AL',\n  'AL',\n  'AL',\n  'AL',\n  'AL',\n  'AL',\n  'AL',\n  'AL',\n  'AL',\n  'AL',\n  'AL',\n  'AL',\n  'AL',\n  'AL',\n  'AL',\n  'AL',\n  'AL',\n  'NL',\n  'NL',\n  'NL',\n  'NL',\n  'NL',\n  'NL',\n  'NL',\n  'NL',\n  'NL',\n  'NL',\n  'NL',\n  'NL',\n  'NL',\n  'NL',\n  'NL',\n  'NL',\n  'NL',\n  'NL',\n  'NL',\n  'NL',\n  'NL',\n  'NL',\n  'NL',\n  'NL',\n  'NL',\n  'NL',\n  'NL',\n  'NL',\n  'NL',\n  'NL',\n  'NL',\n  'NL',\n  'NL',\n  'NL',\n  'NL',\n  'NL',\n  'NL',\n  'NL',\n  'NL',\n  'NL',\n  'NL',\n  'NL',\n  'NL',\n  'NL',\n  'NL',\n  'NL',\n  'NL',\n  'NL',\n  'NL',\n  'NL',\n  'NL',\n  'NL',\n  'NL',\n  'NL',\n  'NL',\n  'NL',\n  'NL',\n  'NL',\n  'NL',\n  'NL',\n  'NL',\n  'AL',\n  'AL',\n  'AL',\n  'AL',\n  'AL',\n  'AL',\n  'AL',\n  'AL',\n  'AL',\n  'AL',\n  'AL',\n  'AL',\n  'AL',\n  'AL',\n  'AL',\n  'AL',\n  'AL',\n  'AL',\n  'AL',\n  'AL',\n  'AL',\n  'AL',\n  'AL',\n  'AL',\n  'AL',\n  'AL',\n  'AL',\n  'AL',\n  'AL',\n  'AL',\n  'AL',\n  'AL',\n  'AL',\n  'AL',\n  'AL',\n  'AL',\n  'AL',\n  'AL',\n  'AL',\n  'AL',\n  'AL',\n  'AL',\n  'AL',\n  'AL',\n  'AL',\n  'AL',\n  'AL',\n  'AL',\n  'AL',\n  'AL',\n  'AL',\n  'AL',\n  'AL',\n  'AL',\n  'AL',\n  'AL',\n  'AL',\n  'AL',\n  'NL',\n  'NL',\n  'NL',\n  'NL',\n  'NL',\n  'NL',\n  'NL',\n  'NL',\n  'NL',\n  'NL',\n  'NL',\n  'NL',\n  'NL',\n  'NL',\n  'NL',\n  'NL',\n  'NL',\n  'NL',\n  'NL',\n  'NL',\n  'NL',\n  'NL',\n  'NL',\n  'NL',\n  'AL',\n  'AL',\n  'AL',\n  'AL',\n  'AL',\n  'AL',\n  'AL',\n  'AL',\n  'AL',\n  'AL',\n  'AL',\n  'AL',\n  'AL',\n  'AL',\n  'AL',\n  'AL',\n  'AL',\n  'AL',\n  'AL',\n  'AL',\n  'AL',\n  'AL',\n  'AL',\n  'AL',\n  'AL',\n  'AL',\n  'AL',\n  'AL',\n  'NL',\n  'NL',\n  'NL',\n  'NL',\n  'NL',\n  'NL',\n  'NL',\n  'NL',\n  'NL',\n  'NL',\n  'NL',\n  'NL',\n  'NL',\n  'NL',\n  'NL',\n  'NL',\n  'NL',\n  'NL',\n  'NL',\n  'NL',\n  'NL',\n  'NL',\n  'NL',\n  'NL',\n  'NL',\n  'NL',\n  'NL',\n  'NL',\n  'NL',\n  'NL',\n  'NL',\n  'NL',\n  'AL',\n  'AL',\n  'AL',\n  'AL',\n  'AL',\n  'AL',\n  'AL',\n  'AL',\n  'AL',\n  'AL',\n  'AL',\n  'AL',\n  'AL',\n  'AL',\n  'AL',\n  'AL',\n  'AL',\n  'AL',\n  'AL',\n  'AL',\n  'AL',\n  'AL',\n  'AL',\n  'AL',\n  'AL',\n  'AL',\n  'AL',\n  'AL',\n  'AL',\n  'AL',\n  'AL',\n  'AL',\n  'AL',\n  'AL',\n  'AL',\n  'AL',\n  'AL',\n  'AL',\n  'AL',\n  'AL',\n  'AL',\n  'AL',\n  'AL',\n  'AL',\n  'AL',\n  'AL',\n  'AL',\n  'AL',\n  'AL',\n  'AL',\n  'NL',\n  'NL',\n  'NL',\n  'NL',\n  'NL',\n  'NL',\n  'NL',\n  'NL',\n  'NL',\n  'NL',\n  'NL',\n  'NL',\n  'NL',\n  'NL',\n  'NL',\n  'NL',\n  'NL',\n  'NL',\n  'NL',\n  'NL',\n  'NL',\n  'NL',\n  'NL',\n  'NL',\n  'NL',\n  'NL',\n  'NL',\n  'NL',\n  'NL',\n  'NL',\n  'NL',\n  'NL',\n  'AL',\n  'AL',\n  'AL',\n  'AL',\n  'AL',\n  'AL',\n  'AL',\n  'AL',\n  'AL',\n  'AL',\n  'AL',\n  'AL',\n  'AL',\n  'AL',\n  'AL',\n  'AL',\n  'AL',\n  'AL',\n  ...],\n 'salary': [870000,\n  550000,\n  545000,\n  633333,\n  625000,\n  800000,\n  150000,\n  483333,\n  772000,\n  250000,\n  1500000,\n  455000,\n  407500,\n  275000,\n  775000,\n  1625000,\n  616667,\n  450000,\n  120000,\n  750000,\n  1354167,\n  800000,\n  625000,\n  480000,\n  437500,\n  512500,\n  375000,\n  641667,\n  450000,\n  483333,\n  725000,\n  1090000,\n  560000,\n  440000,\n  547143,\n  1472819,\n  341667,\n  128500,\n  800000,\n  558333,\n  60000,\n  130000,\n  581250,\n  121000,\n  915000,\n  272500,\n  1000000,\n  115000,\n  177500,\n  747500,\n  580000,\n  140000,\n  160000,\n  650000,\n  800000,\n  477500,\n  130000,\n  335000,\n  300000,\n  125000,\n  370000,\n  275000,\n  260000,\n  165000,\n  240000,\n  483333,\n  779227,\n  1075000,\n  325000,\n  365000,\n  883000,\n  856667,\n  612500,\n  875000,\n  60000,\n  360000,\n  1100000,\n  808333,\n  633333,\n  700000,\n  737000,\n  625000,\n  1058894,\n  390000,\n  346667,\n  60000,\n  407500,\n  125000,\n  146500,\n  340000,\n  120000,\n  130000,\n  437500,\n  750000,\n  266667,\n  683333,\n  550000,\n  147500,\n  675000,\n  811250,\n  727500,\n  1242333,\n  900000,\n  685000,\n  165000,\n  60000,\n  150000,\n  200000,\n  265000,\n  300000,\n  565000,\n  463000,\n  110000,\n  333333,\n  325000,\n  1136262,\n  390000,\n  195000,\n  215000,\n  375000,\n  1450000,\n  550000,\n  406250,\n  800000,\n  750000,\n  200000,\n  483333,\n  310000,\n  490000,\n  600000,\n  865000,\n  766667,\n  505000,\n  500000,\n  670000,\n  320000,\n  225000,\n  1260000,\n  640000,\n  321667,\n  751297,\n  60000,\n  920000,\n  117500,\n  75000,\n  833333,\n  250000,\n  110000,\n  300000,\n  550000,\n  970000,\n  350000,\n  225000,\n  255000,\n  410000,\n  227500,\n  358858,\n  1071429,\n  250000,\n  60000,\n  60000,\n  155000,\n  303333,\n  225000,\n  400000,\n  650000,\n  425000,\n  115000,\n  110000,\n  265000,\n  190000,\n  455000,\n  200000,\n  210000,\n  458333,\n  225000,\n  140000,\n  295000,\n  285000,\n  1100000,\n  375000,\n  125000,\n  240000,\n  262500,\n  250000,\n  76000,\n  1083333,\n  685000,\n  250000,\n  660000,\n  675000,\n  380000,\n  670000,\n  575000,\n  885000,\n  766667,\n  875000,\n  100000,\n  177500,\n  517143,\n  670000,\n  550000,\n  416667,\n  155000,\n  291667,\n  796383,\n  60000,\n  295000,\n  255000,\n  325000,\n  745000,\n  850000,\n  700000,\n  825000,\n  541667,\n  350000,\n  1350000,\n  360000,\n  500000,\n  160000,\n  675000,\n  341667,\n  205000,\n  358000,\n  465000,\n  1000000,\n  250000,\n  115000,\n  95000,\n  202500,\n  100000,\n  535000,\n  225000,\n  871429,\n  800000,\n  155500,\n  450000,\n  316667,\n  975000,\n  150000,\n  175000,\n  608333,\n  425000,\n  843750,\n  330000,\n  150000,\n  120000,\n  60000,\n  500000,\n  1270000,\n  212000,\n  705000,\n  150000,\n  537500,\n  140000,\n  333000,\n  370000,\n  750000,\n  350000,\n  980000,\n  450000,\n  465000,\n  435000,\n  1200000,\n  643750,\n  316667,\n  500000,\n  62500,\n  425000,\n  120000,\n  320000,\n  550000,\n  650000,\n  215000,\n  120000,\n  415000,\n  293750,\n  560000,\n  145000,\n  130000,\n  60000,\n  150000,\n  728571,\n  335000,\n  110000,\n  375000,\n  581250,\n  1176190,\n  565000,\n  1065000,\n  687500,\n  679167,\n  60000,\n  215000,\n  510000,\n  480000,\n  950000,\n  365000,\n  560000,\n  290000,\n  100000,\n  1000000,\n  540000,\n  460000,\n  1000000,\n  550000,\n  1033333,\n  175000,\n  60000,\n  350000,\n  250000,\n  700000,\n  375000,\n  650000,\n  513500,\n  105000,\n  375000,\n  1200000,\n  850000,\n  95000,\n  375000,\n  290000,\n  565000,\n  650000,\n  308333,\n  810000,\n  477500,\n  250000,\n  120000,\n  1075000,\n  900000,\n  425000,\n  1470000,\n  1420000,\n  455000,\n  100000,\n  637500,\n  600000,\n  600000,\n  680000,\n  435000,\n  637500,\n  800000,\n  1795704,\n  550000,\n  200000,\n  325000,\n  525000,\n  2028571,\n  230000,\n  1942857,\n  100000,\n  450000,\n  150000,\n  260000,\n  1100000,\n  115000,\n  560000,\n  330000,\n  60000,\n  650000,\n  125000,\n  275000,\n  300000,\n  516667,\n  591667,\n  107333,\n  575000,\n  60000,\n  350000,\n  141500,\n  700000,\n  305000,\n  610000,\n  425000,\n  150000,\n  262500,\n  600000,\n  1087500,\n  608333,\n  900000,\n  520000,\n  845833,\n  283107,\n  220000,\n  100000,\n  207500,\n  237000,\n  250500,\n  1075000,\n  220000,\n  1109333,\n  620000,\n  350000,\n  140000,\n  500000,\n  192500,\n  60000,\n  600000,\n  310000,\n  820333,\n  700000,\n  220000,\n  240000,\n  2130300,\n  350000,\n  255000,\n  155000,\n  150000,\n  129166,\n  425000,\n  975500,\n  600000,\n  796667,\n  232500,\n  60000,\n  1075000,\n  632000,\n  200000,\n  645000,\n  520000,\n  350000,\n  830000,\n  1066667,\n  130000,\n  140000,\n  150000,\n  160000,\n  240000,\n  175000,\n  975000,\n  1713333,\n  440000,\n  200000,\n  975000,\n  340000,\n  870000,\n  270000,\n  140000,\n  150000,\n  900000,\n  325000,\n  537500,\n  556250,\n  1137000,\n  130000,\n  512500,\n  470000,\n  437500,\n  125000,\n  400000,\n  225000,\n  310000,\n  183000,\n  160000,\n  228000,\n  97000,\n  114400,\n  175000,\n  180000,\n  71600,\n  690000,\n  315000,\n  159000,\n  272500,\n  250000,\n  385000,\n  60000,\n  550000,\n  195000,\n  767500,\n  85000,\n  135000,\n  170000,\n  275000,\n  355000,\n  630000,\n  355000,\n  500000,\n  900000,\n  865000,\n  197000,\n  462500,\n  709714,\n  375000,\n  750000,\n  1030000,\n  160000,\n  457500,\n  562500,\n  1555000,\n  60000,\n  110000,\n  150000,\n  700000,\n  583333,\n  135000,\n  560000,\n  110000,\n  200000,\n  100000,\n  250000,\n  208750,\n  475000,\n  112500,\n  740000,\n  740000,\n  1440000,\n  457500,\n  170000,\n  350000,\n  650000,\n  565000,\n  636667,\n  683333,\n  117500,\n  60000,\n  235000,\n  165000,\n  560000,\n  310000,\n  344000,\n  215000,\n  250000,\n  505000,\n  590000,\n  135000,\n  185000,\n  720000,\n  400000,\n  170000,\n  875000,\n  325000,\n  335000,\n  350000,\n  833333,\n  580000,\n  127500,\n  740000,\n  60000,\n  256667,\n  131250,\n  475000,\n  356300,\n  185000,\n  587500,\n  325000,\n  1000000,\n  730000,\n  370000,\n  367500,\n  60000,\n  880000,\n  565000,\n  600000,\n  769452,\n  200000,\n  786667,\n  425000,\n  1800000,\n  505000,\n  105000,\n  687500,\n  225000,\n  100000,\n  257500,\n  1825000,\n  825000,\n  60000,\n  390000,\n  825000,\n  470000,\n  1000000,\n  200000,\n  60000,\n  1729167,\n  60000,\n  575000,\n  750000,\n  600000,\n  450000,\n  837500,\n  120000,\n  250000,\n  510000,\n  442066,\n  140000,\n  400000,\n  639791,\n  350000,\n  450000,\n  167500,\n  115000,\n  107500,\n  725000,\n  1190000,\n  560458,\n  487078,\n  911051,\n  925814,\n  285000,\n  310000,\n  1150000,\n  120000,\n  240000,\n  70000,\n  60000,\n  387500,\n  1000000,\n  435000,\n  660696,\n  1350000,\n  375000,\n  80000,\n  785000,\n  340000,\n  330000,\n  1017757,\n  70000,\n  650000,\n  60000,\n  412000,\n  350000,\n  495000,\n  541250,\n  265000,\n  255000,\n  60000,\n  1984423,\n  375000,\n  500000,\n  75000,\n  1060000,\n  300000,\n  381113,\n  110000,\n  85000,\n  853479,\n  856667,\n  800000,\n  410000,\n  1200000,\n  808333,\n  60000,\n  100000,\n  170000,\n  500000,\n  939333,\n  82500,\n  1102946,\n  440000,\n  560000,\n  65000,\n  500000,\n  142000,\n  1000000,\n  142000,\n  300000,\n  425000,\n  60000,\n  210000,\n  400000,\n  890000,\n  60000,\n  416667,\n  933333,\n  900000,\n  775000,\n  930000,\n  115000,\n  68000,\n  66500,\n  60000,\n  60000,\n  295000,\n  600000,\n  975000,\n  875000,\n  60000,\n  80000,\n  150000,\n  156667,\n  200000,\n  195000,\n  555000,\n  60000,\n  400000,\n  60000,\n  60000,\n  240000,\n  150000,\n  465000,\n  1132652,\n  75000,\n  200000,\n  60000,\n  400000,\n  327500,\n  575000,\n  1400000,\n  833333,\n  558333,\n  100000,\n  983333,\n  783333,\n  240000,\n  250000,\n  633333,\n  64000,\n  100000,\n  100000,\n  60000,\n  490000,\n  60000,\n  850000,\n  760000,\n  60000,\n  850000,\n  1050000,\n  325000,\n  665000,\n  800000,\n  720000,\n  275000,\n  1530000,\n  550000,\n  890000,\n  325000,\n  870000,\n  215000,\n  102500,\n  920000,\n  60000,\n  90000,\n  1083333,\n  775000,\n  272500,\n  195000,\n  545555,\n  60000,\n  60000,\n  60000,\n  350000,\n  60000,\n  650000,\n  1100000,\n  405000,\n  275000,\n  500000,\n  430000,\n  92500,\n  1000000,\n  1150000,\n  60000,\n  150000,\n  225000,\n  80000,\n  70000,\n  60000,\n  60000,\n  225000,\n  580000,\n  850000,\n  145000,\n  80000,\n  190000,\n  177500,\n  350000,\n  575000,\n  215000,\n  350000,\n  310000,\n  437500,\n  90000,\n  60000,\n  300000,\n  97500,\n  110000,\n  65000,\n  60000,\n  275000,\n  110000,\n  60000,\n  60000,\n  395000,\n  1100000,\n  270000,\n  92000,\n  60000,\n  316667,\n  325000,\n  200000,\n  75000,\n  700000,\n  793333,\n  1200000,\n  250000,\n  960000,\n  687500,\n  60000,\n  72500,\n  550000,\n  698571,\n  62500,\n  875000,\n  80000,\n  850000,\n  875000,\n  150000,\n  60000,\n  60000,\n  662500,\n  260000,\n  275000,\n  567143,\n  670000,\n  60000,\n  525000,\n  310000,\n  95000,\n  755000,\n  120000,\n  325000,\n  65000,\n  280000,\n  550000,\n  600000,\n  80000,\n  65000,\n  1000000,\n  223275,\n  60000,\n  85000,\n  850000,\n  416667,\n  1125000,\n  666667,\n  650000,\n  600000,\n  366667,\n  525000,\n  60000,\n  165000,\n  645000,\n  1471429,\n  60000,\n  85000,\n  250000,\n  67000,\n  100000,\n  175000,\n  185000,\n  60000,\n  360000,\n  770000,\n  883333,\n  650000,\n  450000,\n  293808,\n  150000,\n  925000,\n  925000,\n  75000,\n  1000000,\n  653128,\n  400000,\n  485000,\n  1175000,\n  200000,\n  375000,\n  200000,\n  325000,\n  450000,\n  200000,\n  150000,\n  65000,\n  1370000,\n  60000,\n  1000000,\n  60000,\n  755000,\n  175000,\n  637500,\n  841667,\n  650000,\n  220000,\n  531250,\n  350000,\n  62000,\n  1000000,\n  450000,\n  584624,\n  800000,\n  65000,\n  409485,\n  1600000,\n  455000,\n  68500,\n  743750,\n  60000,\n  65000,\n  1450000,\n  740000,\n  220000,\n  385000,\n  725000,\n  60000,\n  515000,\n  100000,\n  666667,\n  1060000,\n  115000,\n  155000,\n  75000,\n  60000,\n  62500,\n  255000,\n  60000,\n  115000,\n  740000,\n  450000,\n  674000,\n  60000,\n  60000,\n  60000,\n  675000,\n  671560,\n  60000,\n  607322,\n  610000,\n  95000,\n  887500,\n  779167,\n  195000,\n  60000,\n  90000,\n  495000,\n  487500,\n  1160000,\n  402500,\n  70000,\n  766593,\n  60000,\n  175000,\n  155000,\n  121500,\n  60000,\n  60000,\n  70000,\n  950000,\n  80000,\n  650000,\n  160000,\n  1047000,\n  147000,\n  325000,\n  67500,\n  170000,\n  65000,\n  65000,\n  320000,\n  450000,\n  850000,\n  180000,\n  62500,\n  90000,\n  1515000,\n  850000,\n  60000,\n  138100,\n  415000,\n  61500,\n  700000,\n  1000000,\n  170000,\n  127500,\n  60000,\n  650000,\n  120000,\n  87500,\n  350000,\n  70000,\n  557500,\n  750000,\n  60000,\n  658333,\n  65000,\n  200000,\n  120000,\n  1050000,\n  975000,\n  400873,\n  1570000,\n  60000,\n  1220000,\n  1375000,\n  716667,\n  500000,\n  750000,\n  120000,\n  ...]}"
     },
     "execution_count": 30,
     "metadata": {},
     "output_type": "execute_result"
    }
   ],
   "source": [
    "newDict= salary_data.to_dict('list')\n",
    "newDict"
   ]
  },
  {
   "cell_type": "markdown",
   "metadata": {
    "pycharm": {
     "name": "#%% md\n"
    }
   },
   "source": [
    "#### Create Dataframe Using the Constructor"
   ]
  },
  {
   "cell_type": "markdown",
   "metadata": {
    "ExecuteTime": {
     "end_time": "2019-08-24T15:53:45.113577Z",
     "start_time": "2019-08-24T15:53:45.110554Z"
    },
    "pycharm": {
     "name": "#%% md\n"
    }
   },
   "source": [
    "Read the documentation: https://pandas.pydata.org/pandas-docs/stable/reference/api/pandas.DataFrame.html#pandas.DataFrame and create a dataframe using pd.DataFrame from the dictionary created in the iterrows() exercise. Change the header to \"a\", \"b\", \"c\", ... at creation time."
   ]
  },
  {
   "cell_type": "code",
   "execution_count": 42,
   "metadata": {
    "pycharm": {
     "name": "#%%\n"
    }
   },
   "outputs": [
    {
     "data": {
      "text/plain": "              a    b   c         d\nplayerID                          \nbarkele01  1985  ATL  NL    870000\nbedrost01  1985  ATL  NL    550000\nbenedbr01  1985  ATL  NL    545000\ncampri01   1985  ATL  NL    633333\nceronri01  1985  ATL  NL    625000\n...         ...  ...  ..       ...\ntreinbl01  2015  WAS  NL    512800\nugglada01  2015  WAS  NL    507500\nwerthja01  2015  WAS  NL  21000000\nzimmejo02  2015  WAS  NL  16500000\nzimmery01  2015  WAS  NL  14000000\n\n[25575 rows x 4 columns]",
      "text/html": "<div>\n<style scoped>\n    .dataframe tbody tr th:only-of-type {\n        vertical-align: middle;\n    }\n\n    .dataframe tbody tr th {\n        vertical-align: top;\n    }\n\n    .dataframe thead th {\n        text-align: right;\n    }\n</style>\n<table border=\"1\" class=\"dataframe\">\n  <thead>\n    <tr style=\"text-align: right;\">\n      <th></th>\n      <th>a</th>\n      <th>b</th>\n      <th>c</th>\n      <th>d</th>\n    </tr>\n    <tr>\n      <th>playerID</th>\n      <th></th>\n      <th></th>\n      <th></th>\n      <th></th>\n    </tr>\n  </thead>\n  <tbody>\n    <tr>\n      <th>barkele01</th>\n      <td>1985</td>\n      <td>ATL</td>\n      <td>NL</td>\n      <td>870000</td>\n    </tr>\n    <tr>\n      <th>bedrost01</th>\n      <td>1985</td>\n      <td>ATL</td>\n      <td>NL</td>\n      <td>550000</td>\n    </tr>\n    <tr>\n      <th>benedbr01</th>\n      <td>1985</td>\n      <td>ATL</td>\n      <td>NL</td>\n      <td>545000</td>\n    </tr>\n    <tr>\n      <th>campri01</th>\n      <td>1985</td>\n      <td>ATL</td>\n      <td>NL</td>\n      <td>633333</td>\n    </tr>\n    <tr>\n      <th>ceronri01</th>\n      <td>1985</td>\n      <td>ATL</td>\n      <td>NL</td>\n      <td>625000</td>\n    </tr>\n    <tr>\n      <th>...</th>\n      <td>...</td>\n      <td>...</td>\n      <td>...</td>\n      <td>...</td>\n    </tr>\n    <tr>\n      <th>treinbl01</th>\n      <td>2015</td>\n      <td>WAS</td>\n      <td>NL</td>\n      <td>512800</td>\n    </tr>\n    <tr>\n      <th>ugglada01</th>\n      <td>2015</td>\n      <td>WAS</td>\n      <td>NL</td>\n      <td>507500</td>\n    </tr>\n    <tr>\n      <th>werthja01</th>\n      <td>2015</td>\n      <td>WAS</td>\n      <td>NL</td>\n      <td>21000000</td>\n    </tr>\n    <tr>\n      <th>zimmejo02</th>\n      <td>2015</td>\n      <td>WAS</td>\n      <td>NL</td>\n      <td>16500000</td>\n    </tr>\n    <tr>\n      <th>zimmery01</th>\n      <td>2015</td>\n      <td>WAS</td>\n      <td>NL</td>\n      <td>14000000</td>\n    </tr>\n  </tbody>\n</table>\n<p>25575 rows × 4 columns</p>\n</div>"
     },
     "execution_count": 42,
     "metadata": {},
     "output_type": "execute_result"
    }
   ],
   "source": [
    "df = pd.DataFrame(newDict, index = salary_data.index)\n",
    "df.columns = [\"a\",\"b\",\"c\",\"d\"]\n",
    "df\n"
   ]
  },
  {
   "cell_type": "markdown",
   "metadata": {
    "pycharm": {
     "name": "#%% md\n"
    }
   },
   "source": [
    "### Numpy"
   ]
  },
  {
   "cell_type": "markdown",
   "metadata": {
    "pycharm": {
     "name": "#%% md\n"
    }
   },
   "source": [
    "Quick start: https://www.numpy.org/devdocs/user/quickstart.html\n",
    "\n",
    "Numpy axes explaination: https://www.sharpsightlabs.com/blog/numpy-axes-explained/"
   ]
  },
  {
   "cell_type": "markdown",
   "metadata": {
    "pycharm": {
     "name": "#%% md\n"
    }
   },
   "source": [
    "#### The np.array Method"
   ]
  },
  {
   "cell_type": "markdown",
   "metadata": {
    "pycharm": {
     "name": "#%% md\n"
    }
   },
   "source": [
    "Example 1:\n",
    "\n",
    "```python\n",
    "ls = [1, 2, 3]\n",
    "arr = np.array(ls)\n",
    "```\n",
    "\n",
    "Example 2:\n",
    "```python\n",
    ">>> np.array([[1, 2], [3, 4]])\n",
    "array([[1, 2],\n",
    "       [3, 4]])\n",
    "```"
   ]
  },
  {
   "cell_type": "markdown",
   "metadata": {
    "pycharm": {
     "name": "#%% md\n"
    }
   },
   "source": [
    "Now, create a 2-dimensional Python list object, then convert it to a Numpy array object."
   ]
  },
  {
   "cell_type": "code",
   "execution_count": 43,
   "metadata": {
    "pycharm": {
     "name": "#%%\n"
    }
   },
   "outputs": [
    {
     "data": {
      "text/plain": "array([[1, 2, 3],\n       [4, 5, 6]])"
     },
     "execution_count": 43,
     "metadata": {},
     "output_type": "execute_result"
    }
   ],
   "source": [
    "import numpy as np\n",
    "TwoD = [[1,2,3],[4,5,6]];\n",
    "npArray = np.array(TwoD);\n",
    "npArray"
   ]
  },
  {
   "cell_type": "markdown",
   "metadata": {
    "pycharm": {
     "name": "#%% md\n"
    }
   },
   "source": [
    "#### ndarray Objects' Attributes"
   ]
  },
  {
   "cell_type": "markdown",
   "metadata": {
    "pycharm": {
     "name": "#%% md\n"
    }
   },
   "source": [
    "Play with the **ndim, shape, size, dtype, itemsize and data** attribute.\n",
    "\n",
    "Example:\n",
    "\n",
    "```python\n",
    ">>> arr = np.array([[1, 2], [3, 4]])\n",
    ">>> arr.ndim\n",
    "2\n",
    "```"
   ]
  },
  {
   "cell_type": "code",
   "execution_count": 49,
   "metadata": {
    "pycharm": {
     "name": "#%%\n"
    }
   },
   "outputs": [
    {
     "name": "stdout",
     "output_type": "stream",
     "text": [
      "2\n",
      "(2, 3)\n",
      "int64\n",
      "8\n",
      "6\n",
      "<memory at 0x7fc8bd258ba0>\n"
     ]
    }
   ],
   "source": [
    "print(npArray.ndim)\n",
    "print(npArray.shape)\n",
    "print(npArray.dtype.name)\n",
    "print(npArray.itemsize)\n",
    "print(npArray.size)\n",
    "print(npArray.data)"
   ]
  },
  {
   "cell_type": "markdown",
   "metadata": {
    "pycharm": {
     "name": "#%% md\n"
    }
   },
   "source": [
    "#### Dimension of ndarray Ojects"
   ]
  },
  {
   "cell_type": "markdown",
   "metadata": {
    "pycharm": {
     "name": "#%% md\n"
    }
   },
   "source": [
    "Play with the reshape() and flatten() method.\n",
    "\n",
    "Example:\n",
    "```python\n",
    ">>> arr = np.array([[1, 2], [3, 4]])\n",
    ">>> arr.flatten()\n",
    "array([1, 2, 3, 4])\n",
    "```"
   ]
  },
  {
   "cell_type": "code",
   "execution_count": 53,
   "metadata": {
    "pycharm": {
     "name": "#%%\n"
    }
   },
   "outputs": [
    {
     "data": {
      "text/plain": "array([ 0,  1,  2,  3,  4,  5,  6,  7,  8,  9, 10, 11, 12, 13, 14])"
     },
     "execution_count": 53,
     "metadata": {},
     "output_type": "execute_result"
    }
   ],
   "source": [
    "arr = np.arange(15).reshape(3,5)\n",
    "ar1 = np.array(arr)\n",
    "ar1.flatten()\n",
    "\n"
   ]
  },
  {
   "cell_type": "markdown",
   "metadata": {
    "pycharm": {
     "name": "#%% md\n"
    }
   },
   "source": [
    "#### The Slice Operation of ndarray Objects"
   ]
  },
  {
   "cell_type": "markdown",
   "metadata": {
    "pycharm": {
     "name": "#%% md\n"
    }
   },
   "source": [
    "Understand how the slice operation works for 1-D array and 2-D array.\n",
    "\n",
    "Example:\n",
    "\n",
    "```python\n",
    ">>> arr = np.array([[1, 2, 3], [3, 4, 6], [7, 8, 9]])\n",
    ">>> arr[1:]\n",
    "array([[3, 4, 6],\n",
    "       [7, 8, 9]])\n",
    ">>> arr[1:, 0:2]\n",
    "array([[3, 4],\n",
    "       [7, 8]])\n",
    "```"
   ]
  },
  {
   "cell_type": "code",
   "execution_count": 56,
   "metadata": {
    "pycharm": {
     "name": "#%%\n"
    }
   },
   "outputs": [
    {
     "data": {
      "text/plain": "array([[12, 13, 14]])"
     },
     "execution_count": 56,
     "metadata": {},
     "output_type": "execute_result"
    }
   ],
   "source": [
    "ar1[2:, 2:5]"
   ]
  },
  {
   "cell_type": "markdown",
   "metadata": {
    "pycharm": {
     "name": "#%% md\n"
    }
   },
   "source": [
    "#### The Calculation of ndarray Objects"
   ]
  },
  {
   "cell_type": "markdown",
   "metadata": {
    "pycharm": {
     "name": "#%% md\n"
    }
   },
   "source": [
    "Play with the **argmin(), argmax(), min(), max(), mean(), sum(), std(), dot(), square(), sqrt(), abs(). exp(), sign(), mod()** method.\n",
    "\n",
    "Example:\n",
    "\n",
    "```python\n",
    ">>> np.square(array)\n",
    "array([[ 1,  4,  9],\n",
    "       [ 9, 16, 36],\n",
    "       [49, 64, 81]])\n",
    "\n",
    "```"
   ]
  },
  {
   "cell_type": "code",
   "execution_count": 71,
   "metadata": {
    "pycharm": {
     "name": "#%%\n"
    }
   },
   "outputs": [
    {
     "name": "stdout",
     "output_type": "stream",
     "text": [
      "14\n",
      "0\n",
      "0\n",
      "7.0\n",
      "4.320493798938574\n",
      "[[ 0  2  4  6  8]\n",
      " [10 12 14 16 18]\n",
      " [20 22 24 26 28]]\n",
      "105\n",
      "[[  0   1   4   9  16]\n",
      " [ 25  36  49  64  81]\n",
      " [100 121 144 169 196]]\n",
      "[   2.71828183   20.08553692  148.4131591  1096.63315843]\n",
      "[[0 1 1 1 1]\n",
      " [1 1 1 1 1]\n",
      " [1 1 1 1 1]]\n",
      "[[0 1 2 0 1]\n",
      " [2 0 1 2 0]\n",
      " [1 2 0 1 2]]\n"
     ]
    }
   ],
   "source": [
    "#position of max and min\n",
    "print(ar1.argmax())\n",
    "print(ar1.argmin())\n",
    "#value\n",
    "print(ar1.min())\n",
    "print(ar1.mean())\n",
    "print(ar1.std())\n",
    "#product(inner product)\n",
    "print(ar1.dot(2))\n",
    "print(ar1.sum())\n",
    "ar2 = np.array([1,3,5,7]);\n",
    "print(np.square(ar1))\n",
    "print(np.exp(ar2))\n",
    "print(np.sign(ar1))\n",
    "print(np.mod(ar1,3));"
   ]
  },
  {
   "cell_type": "markdown",
   "metadata": {
    "pycharm": {
     "name": "#%% md\n"
    }
   },
   "source": [
    "#### Other Important Methods Inside Module Numpy"
   ]
  },
  {
   "cell_type": "markdown",
   "metadata": {
    "pycharm": {
     "name": "#%% md\n"
    }
   },
   "source": [
    "Play with the arange(), ones(), zeros(), eye(), linspace(), concatenate() method.\n",
    "\n",
    "Example:\n",
    "\n",
    "```python\n",
    ">>> np.eye(3)\n",
    "array([[1., 0., 0.],\n",
    "       [0., 1., 0.],\n",
    "       [0., 0., 1.]])\n",
    "```"
   ]
  },
  {
   "cell_type": "code",
   "execution_count": 85,
   "metadata": {
    "pycharm": {
     "name": "#%%\n"
    }
   },
   "outputs": [
    {
     "data": {
      "text/plain": "(array([2.        , 2.22222222, 2.44444444, 2.66666667, 2.88888889,\n        3.11111111, 3.33333333, 3.55555556, 3.77777778, 4.        ]),\n 0.2222222222222222)"
     },
     "execution_count": 85,
     "metadata": {},
     "output_type": "execute_result"
    }
   ],
   "source": [
    "ar3 = np.eye(4)\n",
    "ar3 = ar3.astype('int32')\n",
    "np.ones((2,2))\n",
    "np.zeros((2,2))\n",
    "# Two array\n",
    "ar4 = np.array([[1,2,3],[3,2,1]])\n",
    "ar5 = np.array([[1,2,5],[5,2,1]])\n",
    "np.concatenate([ar4,ar5])\n",
    "# Evenly distributed interval given the range\n",
    "np.linspace(2.0, 4.0, num = 10, retstep=True)"
   ]
  },
  {
   "cell_type": "markdown",
   "metadata": {
    "pycharm": {
     "name": "#%% md\n"
    }
   },
   "source": [
    "### Scikit-Learn"
   ]
  },
  {
   "cell_type": "markdown",
   "metadata": {
    "pycharm": {
     "name": "#%% md\n"
    }
   },
   "source": [
    "The followings are packages (or methods) in Python (Scikit-Learn and Scipy) that will be frequently used in your programming assignment. So, please read carefully.\n",
    "\n",
    "- Data Preprocessing (https://scikit-learn.org/stable/modules/classes.html#module-sklearn.preprocessing)\n",
    "    - Standardization: StandardScaler\n",
    "    - Normalization: MinMaxScaler\n",
    "    - Quantifing Categorical Features: LabelEncoder. OneHotEncoder\n",
    "    - Construct Train and Test Set: model_selection.train_test_split\n",
    "- KNN: KNeighborsClassifier\n",
    "- Linear Regression: LinearRegression\n",
    "- Logistic Regression: LogisticRegression, LogisticRegressionCV\n",
    "- Feature Selection / Model Selection\n",
    "    - L1 Penalized Regression (Lasso Regression) with Cross-Validation: LassoCV\n",
    "    - L2 Penalized Regression (Ridge Regression) with Cross-Validation: RidgeCV\n",
    "    - Cross-Validation: StratifiedKFold, RepeatedKFold, LeaveOneOut, KFold, model_selection.cross_validate, model_selection.cross_val_predict, model_selection.cross_val_score\n",
    "    - Model Metrics (https://scikit-learn.org/stable/modules/classes.html#sklearn-metrics-metrics): accuracy_score, auc, f1_score, hamming_loss, precision_score, recall_score, roc_auc_score\n",
    "- Decision Tree: DecisionTreeClassifier, DecisionTreeRegressor\n",
    "- Bootstrap, Ensemble Methods\n",
    "    - Bootstrap: bootstrapped (https://pypi.org/project/bootstrapped/)\n",
    "    - Bagging: RandomForestClassifier, RandomForestRegressor\n",
    "    - Boosting: AdaBoostClassifier, AdaBoostRegressor\n",
    "- Support Vector Machines (https://scikit-learn.org/stable/modules/svm.html#svm): LinearSVC, LinearSVR\n",
    "- Multiclass and Multilabel Classification (https://scikit-learn.org/stable/modules/classes.html#module-sklearn.multiclass)\n",
    "    - One-vs-one Multiclass Strategy: OneVsOneClassifier\n",
    "    - One-vs-the-rest (OvR) multiclass/multilabel strategy / OneVsRestClassifier\n",
    "- Unsupervised Learning\n",
    "    - K-means Clustering: KMeans\n",
    "    - Hierarchical Clustering: scipy.cluster.hierarchy (not scikit-learn)\n",
    "- Semisupervised Learning (https://scikit-learn.org/stable/modules/label_propagation.html)"
   ]
  },
  {
   "cell_type": "markdown",
   "metadata": {
    "pycharm": {
     "name": "#%% md\n"
    }
   },
   "source": [
    "### Git and GitHub"
   ]
  },
  {
   "cell_type": "markdown",
   "metadata": {
    "pycharm": {
     "name": "#%% md\n"
    }
   },
   "source": [
    "1. In the directory that where this jupyter notebook file locates in, init a Git repository.\n",
    "2. Checkout a new branch called dev and commit the current notebook within this branch.\n",
    "3. Merge the dev branch to the master branch (the default branch).\n",
    "4. Create a temporary repository (just for practicing and you can delete it later) in GitHub. \n",
    "5. Push new changes in the master branch to the remote repository created in step 4.\n",
    "6. Checkout the dev branch again and do some changes to your notebook, and then repeat step 3 and step 5."
   ]
  }
 ],
 "metadata": {
  "kernelspec": {
   "display_name": "Python 3",
   "language": "python",
   "name": "python3"
  },
  "language_info": {
   "codemirror_mode": {
    "name": "ipython",
    "version": 3
   },
   "file_extension": ".py",
   "mimetype": "text/x-python",
   "name": "python",
   "nbconvert_exporter": "python",
   "pygments_lexer": "ipython3",
   "version": "3.6.8"
  },
  "toc": {
   "base_numbering": 1,
   "nav_menu": {},
   "number_sections": true,
   "sideBar": true,
   "skip_h1_title": false,
   "title_cell": "Table of Contents",
   "title_sidebar": "Contents",
   "toc_cell": false,
   "toc_position": {
    "height": "calc(100% - 180px)",
    "left": "10px",
    "top": "150px",
    "width": "294.435px"
   },
   "toc_section_display": true,
   "toc_window_display": true
  }
 },
 "nbformat": 4,
 "nbformat_minor": 2
}